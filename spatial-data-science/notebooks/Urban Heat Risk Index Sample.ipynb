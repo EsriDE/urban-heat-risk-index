{
 "cells": [
  {
   "cell_type": "code",
   "execution_count": 2,
   "id": "150b3605",
   "metadata": {},
   "outputs": [],
   "source": [
    "from arcgis.gis import GIS\n",
    "from heatri import calculate_heat_risk_index"
   ]
  },
  {
   "cell_type": "code",
   "execution_count": 3,
   "id": "472f9ae8",
   "metadata": {},
   "outputs": [],
   "source": [
    "gis = GIS('home')"
   ]
  },
  {
   "cell_type": "code",
   "execution_count": 4,
   "id": "16bbe714",
   "metadata": {},
   "outputs": [
    {
     "data": {
      "application/vnd.jupyter.widget-view+json": {
       "model_id": "a0d5a5824fd6475b9255d5cd0189f3fe",
       "version_major": 2,
       "version_minor": 0
      },
      "text/plain": [
       "MapView(layout=Layout(height='400px', width='100%'))"
      ]
     },
     "metadata": {},
     "output_type": "display_data"
    },
    {
     "data": {
      "text/html": [
       "<div class=\"map-static-img-preview-8698266c-2b3f-4d8d-9d4c-aaaa94c46c17\"><img src=\"\"></img></div>"
      ],
      "text/plain": [
       "<IPython.core.display.HTML object>"
      ]
     },
     "metadata": {},
     "output_type": "display_data"
    },
    {
     "data": {
      "text/html": [
       "<div class=\"map-html-embed-preview-8698266c-2b3f-4d8d-9d4c-aaaa94c46c17\"></div>"
      ],
      "text/plain": [
       "<IPython.core.display.HTML object>"
      ]
     },
     "metadata": {},
     "output_type": "display_data"
    }
   ],
   "source": [
    "bonn_map = gis.map('Bonn, Germany')\n",
    "bonn_map"
   ]
  },
  {
   "cell_type": "code",
   "execution_count": 7,
   "id": "16076048",
   "metadata": {},
   "outputs": [
    {
     "data": {
      "text/plain": [
       "790891.206928151"
      ]
     },
     "execution_count": 7,
     "metadata": {},
     "output_type": "execute_result"
    }
   ],
   "source": [
    "bonn_map.extent['xmin']"
   ]
  },
  {
   "cell_type": "code",
   "execution_count": null,
   "id": "ece266db",
   "metadata": {},
   "outputs": [],
   "source": []
  }
 ],
 "metadata": {
  "kernelspec": {
   "display_name": "Python 3 (ipykernel)",
   "language": "python",
   "name": "python3"
  },
  "language_info": {
   "codemirror_mode": {
    "name": "ipython",
    "version": 3
   },
   "file_extension": ".py",
   "mimetype": "text/x-python",
   "name": "python",
   "nbconvert_exporter": "python",
   "pygments_lexer": "ipython3",
   "version": "3.11.8"
  }
 },
 "nbformat": 4,
 "nbformat_minor": 5
}
